{
 "cells": [
  {
   "cell_type": "code",
   "execution_count": 1,
   "metadata": {},
   "outputs": [
    {
     "name": "stdout",
     "output_type": "stream",
     "text": [
      "Prediction of (2, 2): { 0.999497,  0.000503}\n",
      "Prediction of (2, 2) in index: 0\n"
     ]
    },
    {
     "data": {
      "text/plain": [
       "[{'test_accuracy': 0.95,\n",
       "  'test_loss': 27.02547851913335,\n",
       "  'train_accuracy': 0.95,\n",
       "  'train_loss': 27.02547851913335},\n",
       " {'test_accuracy': 1.0,\n",
       "  'test_loss': 2.280993009603499,\n",
       "  'train_accuracy': 1.0,\n",
       "  'train_loss': 2.280993009603499},\n",
       " {'test_accuracy': 1.0,\n",
       "  'test_loss': 1.4249535979767454,\n",
       "  'train_accuracy': 1.0,\n",
       "  'train_loss': 1.4249535979767454},\n",
       " {'test_accuracy': 1.0,\n",
       "  'test_loss': 1.0330121987796472,\n",
       "  'train_accuracy': 1.0,\n",
       "  'train_loss': 1.0330121987796472},\n",
       " {'test_accuracy': 1.0,\n",
       "  'test_loss': 0.8132886715871231,\n",
       "  'train_accuracy': 1.0,\n",
       "  'train_loss': 0.8132886715871231},\n",
       " {'test_accuracy': 1.0,\n",
       "  'test_loss': 0.6656411158394506,\n",
       "  'train_accuracy': 1.0,\n",
       "  'train_loss': 0.6656411158394506},\n",
       " {'test_accuracy': 1.0,\n",
       "  'test_loss': 0.5663651089717224,\n",
       "  'train_accuracy': 1.0,\n",
       "  'train_loss': 0.5663651089717224},\n",
       " {'test_accuracy': 1.0,\n",
       "  'test_loss': 0.4905364188184892,\n",
       "  'train_accuracy': 1.0,\n",
       "  'train_loss': 0.4905364188184892},\n",
       " {'test_accuracy': 1.0,\n",
       "  'test_loss': 0.43304510894500614,\n",
       "  'train_accuracy': 1.0,\n",
       "  'train_loss': 0.43304510894500614},\n",
       " {'test_accuracy': 1.0,\n",
       "  'test_loss': 0.38762790053840307,\n",
       "  'train_accuracy': 1.0,\n",
       "  'train_loss': 0.38762790053840307}]"
      ]
     },
     "execution_count": 1,
     "metadata": {},
     "output_type": "execute_result"
    }
   ],
   "source": [
    "import os\n",
    "import sys\n",
    "sys.path.append('build')\n",
    "import pysimplednn as pysimplednn\n",
    "import numpy as np\n",
    "\n",
    "pysimplednn.simplednn(np.array([1, 2]), 10)"
   ]
  }
 ],
 "metadata": {
  "interpreter": {
   "hash": "5bc13a52393d9cf92ad84a5c56452b02f2f6920b5527d2a9f165e37749a47e8d"
  },
  "kernelspec": {
   "display_name": "Python 3.8.8 ('base')",
   "language": "python",
   "name": "python3"
  },
  "language_info": {
   "codemirror_mode": {
    "name": "ipython",
    "version": 3
   },
   "file_extension": ".py",
   "mimetype": "text/x-python",
   "name": "python",
   "nbconvert_exporter": "python",
   "pygments_lexer": "ipython3",
   "version": "3.8.8"
  },
  "orig_nbformat": 4
 },
 "nbformat": 4,
 "nbformat_minor": 2
}
