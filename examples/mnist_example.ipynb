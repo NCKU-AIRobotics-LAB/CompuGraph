{
 "cells": [
  {
   "cell_type": "code",
   "execution_count": 1,
   "metadata": {},
   "outputs": [],
   "source": [
    "import sys\n",
    "sys.path.append('../build')"
   ]
  },
  {
   "cell_type": "code",
   "execution_count": 2,
   "metadata": {},
   "outputs": [
    {
     "name": "stdout",
     "output_type": "stream",
     "text": [
      "CompuGraph Testing Version 0.0.5\n"
     ]
    }
   ],
   "source": [
    "from compugraph import test\n",
    "\n",
    "test()"
   ]
  },
  {
   "cell_type": "code",
   "execution_count": 3,
   "metadata": {},
   "outputs": [
    {
     "name": "stdout",
     "output_type": "stream",
     "text": [
      "Test BLAS and LAPACK\n",
      "{{ 19.,  22.},\n",
      " { 43.,  50.}}\n"
     ]
    }
   ],
   "source": [
    "from compugraph import dot\n",
    "\n",
    "dot()"
   ]
  },
  {
   "cell_type": "code",
   "execution_count": 4,
   "metadata": {},
   "outputs": [],
   "source": [
    "import gzip\n",
    "import os\n",
    "from urllib.request import urlretrieve\n",
    "import numpy as np\n",
    "\n",
    "# train-images-idx3-ubyte.gz: training set images (9912422 bytes)\n",
    "# train-labels-idx1-ubyte.gz: training set labels (28881 bytes)\n",
    "# t10k-images-idx3-ubyte.gz: test set images (1648877 bytes)\n",
    "# t10k-labels-idx1-ubyte.gz: test set labels (4542 bytes)\n",
    "\n",
    "def load_idx(filepath):\n",
    "    with gzip.open(filepath, 'rb') as fin:\n",
    "        idx_data = fin.read()\n",
    "        idx = 0\n",
    "        unsigned = idx_data[idx + 2] == 8\n",
    "        dim = idx_data[idx + 3]\n",
    "        idx += 4\n",
    "\n",
    "        dim_shape = []\n",
    "        for i in range(dim):\n",
    "            dim_shape.append(int.from_bytes(idx_data[idx:idx+4], 'big', signed=False))\n",
    "            idx += 4\n",
    "\n",
    "        if unsigned:\n",
    "            return np.frombuffer(idx_data[idx:], np.uint8).reshape(dim_shape)\n",
    "        return None\n",
    "\n",
    "def select_images():\n",
    "    if (not os.path.exists('data')):\n",
    "        os.makedirs('data')\n",
    "    if (not os.path.exists('data/train-images-idx3-ubyte.gz')):\n",
    "        urlretrieve('http://yann.lecun.com/exdb/mnist/train-images-idx3-ubyte.gz', 'data/train-images-idx3-ubyte.gz')\n",
    "    if (not os.path.exists('data/train-labels-idx1-ubyte.gz')):\n",
    "        urlretrieve('http://yann.lecun.com/exdb/mnist/train-labels-idx1-ubyte.gz', 'data/train-labels-idx1-ubyte.gz')\n",
    "    if (not os.path.exists('data/t10k-images-idx3-ubyte.gz')):\n",
    "        urlretrieve('http://yann.lecun.com/exdb/mnist/t10k-images-idx3-ubyte.gz', 'data/t10k-images-idx3-ubyte.gz')\n",
    "    if (not os.path.exists('data/t10k-labels-idx1-ubyte.gz')):\n",
    "        urlretrieve('http://yann.lecun.com/exdb/mnist/t10k-labels-idx1-ubyte.gz', 'data/t10k-labels-idx1-ubyte.gz')\n",
    "    train_images_data = load_idx('data/train-images-idx3-ubyte.gz')\n",
    "    train_labels_data = load_idx('data/train-labels-idx1-ubyte.gz')\n",
    "    test_images_data = load_idx('data/t10k-images-idx3-ubyte.gz')\n",
    "    test_labels_data = load_idx('data/t10k-labels-idx1-ubyte.gz')\n",
    "\n",
    "    images_list = []\n",
    "    labels_list = []\n",
    "    for n in range(10):\n",
    "        idx = np.where(train_labels_data == n)[0][:]\n",
    "        images_list.append(train_images_data[idx])\n",
    "        labels_list.extend(train_labels_data[idx])\n",
    "    train_images = np.vstack(images_list)\n",
    "    train_labels = np.vstack(labels_list).reshape(-1)\n",
    "    train_labels = np.eye(10)[train_labels]\n",
    "\n",
    "    images_list = []\n",
    "    labels_list = []\n",
    "    for n in range(10):\n",
    "        idx = np.where(test_labels_data == n)[0][:]\n",
    "        images_list.append(test_images_data[idx])\n",
    "        labels_list.extend(test_labels_data[idx])\n",
    "    test_images = np.vstack(images_list)\n",
    "    test_labels = np.vstack(labels_list).reshape(-1)\n",
    "    test_labels = np.eye(10)[test_labels]\n",
    "\n",
    "    return train_images, train_labels, test_images, test_labels\n",
    "\n",
    "train_images, train_labels, test_images, test_labels = select_images()\n",
    "\n",
    "X_train = (train_images.reshape(train_images.shape[0], -1) / 255.0).astype(np.float64)\n",
    "Y_train = train_labels.astype(np.float32)\n",
    "X_test = (test_images.reshape(test_images.shape[0], -1) / 255.0).astype(np.float64)\n",
    "Y_test = test_labels.astype(np.float64)"
   ]
  },
  {
   "cell_type": "code",
   "execution_count": 5,
   "metadata": {},
   "outputs": [
    {
     "name": "stdout",
     "output_type": "stream",
     "text": [
      "X_train shape: (60000, 784)\n",
      "Y_train shape: (60000, 10)\n",
      "X_test shape: (10000, 784)\n",
      "Y_test shape: (10000, 10)\n",
      "Epoch 1/10\n",
      "376/375 [==============================] - loss: 2.79613 - accuracy: 0.929061 - val_loss: 2.74636 - val_accuracy: 0.927503\n",
      "Epoch 2/10\n",
      "376/375 [==============================] - loss: 1.80986 - accuracy: 0.962107 - val_loss: 1.95294 - val_accuracy: 0.951109\n",
      "Epoch 3/10\n",
      "376/375 [==============================] - loss: 1.64283 - accuracy: 0.964426 - val_loss: 1.55754 - val_accuracy: 0.954805\n",
      "Epoch 4/10\n",
      "376/375 [==============================] - loss: 1.61069 - accuracy: 0.971027 - val_loss: 1.5807 - val_accuracy: 0.957745\n",
      "Epoch 5/10\n",
      "376/375 [==============================] - loss: 1.38105 - accuracy: 0.976416 - val_loss: 1.37465 - val_accuracy: 0.961526\n",
      "Epoch 6/10\n",
      "376/375 [==============================] - loss: 1.18768 - accuracy: 0.97861 - val_loss: 1.19577 - val_accuracy: 0.965054\n",
      "Epoch 7/10\n",
      "376/375 [==============================] - loss: 0.952376 - accuracy: 0.979926 - val_loss: 0.956628 - val_accuracy: 0.965138\n",
      "Epoch 8/10\n",
      "376/375 [==============================] - loss: 1.08176 - accuracy: 0.984772 - val_loss: 0.946759 - val_accuracy: 0.96665\n",
      "Epoch 9/10\n",
      "376/375 [==============================] - loss: 0.927414 - accuracy: 0.982495 - val_loss: 0.893859 - val_accuracy: 0.966902\n",
      "Epoch 10/10\n",
      "376/375 [==============================] - loss: 0.827286 - accuracy: 0.98707 - val_loss: 0.634027 - val_accuracy: 0.96665\n",
      "Testing\n",
      "313/313 [==============================] - loss: 0.188837 - accuracy: 0.970056\n"
     ]
    }
   ],
   "source": [
    "from compugraph import mlp1\n",
    "import numpy as np\n",
    "\n",
    "print('X_train shape:', X_train.shape)\n",
    "print('Y_train shape:', Y_train.shape)\n",
    "print('X_test shape:', X_test.shape)\n",
    "print('Y_test shape:', Y_test.shape)\n",
    "\n",
    "results = mlp1(X_train, Y_train, X_test, Y_test, 10)"
   ]
  },
  {
   "cell_type": "code",
   "execution_count": 6,
   "metadata": {},
   "outputs": [
    {
     "data": {
      "image/png": "[encoded data removed]",
      "text/plain": [
       "<Figure size 432x288 with 1 Axes>"
      ]
     },
     "metadata": {
      "needs_background": "light"
     },
     "output_type": "display_data"
    },
    {
     "data": {
      "image/png": "[encoded data removed]",
      "text/plain": [
       "<Figure size 432x288 with 1 Axes>"
      ]
     },
     "metadata": {
      "needs_background": "light"
     },
     "output_type": "display_data"
    }
   ],
   "source": [
    "import matplotlib.pyplot as plt\n",
    "\n",
    "x = list(range(1, len(results)))\n",
    "train_err = [1 - results[i]['accuracy'] for i in range(0, len(results) - 1)]\n",
    "val_err = [1 - results[i]['val_accuracy'] for i in range(0, len(results) - 1)]\n",
    "\n",
    "plt.plot(x, train_err)\n",
    "plt.xlabel('epoch')\n",
    "plt.ylabel('Training Error')\n",
    "plt.show()\n",
    "\n",
    "plt.plot(x, val_err)\n",
    "plt.xlabel('epoch')\n",
    "plt.ylabel('Validation Error')\n",
    "plt.show()"
   ]
  },
  {
   "cell_type": "code",
   "execution_count": 7,
   "metadata": {},
   "outputs": [
    {
     "name": "stdout",
     "output_type": "stream",
     "text": [
      "X_train shape: (60000, 784)\n",
      "Y_train shape: (60000, 10)\n",
      "X_test shape: (10000, 784)\n",
      "Y_test shape: (10000, 10)\n",
      "Epoch 1/10\n",
      "376/375 [==============================] - loss: 4.30274 - accuracy: 0.774043 - val_loss: 4.02572 - val_accuracy: 0.774278\n",
      "Epoch 2/10\n",
      "376/375 [==============================] - loss: 3.4832 - accuracy: 0.904433 - val_loss: 3.65865 - val_accuracy: 0.898438\n",
      "Epoch 3/10\n",
      "376/375 [==============================] - loss: 2.45686 - accuracy: 0.939986 - val_loss: 2.34067 - val_accuracy: 0.933804\n",
      "Epoch 4/10\n",
      "376/375 [==============================] - loss: 1.69331 - accuracy: 0.949616 - val_loss: 1.66624 - val_accuracy: 0.94464\n",
      "Epoch 5/10\n",
      "376/375 [==============================] - loss: 1.70832 - accuracy: 0.957198 - val_loss: 1.54761 - val_accuracy: 0.947497\n",
      "Epoch 6/10\n",
      "376/375 [==============================] - loss: 1.6545 - accuracy: 0.949093 - val_loss: 1.53855 - val_accuracy: 0.938088\n",
      "Epoch 7/10\n",
      "376/375 [==============================] - loss: 1.44448 - accuracy: 0.964113 - val_loss: 1.63596 - val_accuracy: 0.951025\n",
      "Epoch 8/10\n",
      "376/375 [==============================] - loss: 1.32937 - accuracy: 0.962692 - val_loss: 1.37357 - val_accuracy: 0.952369\n",
      "Epoch 9/10\n",
      "376/375 [==============================] - loss: 1.11249 - accuracy: 0.965638 - val_loss: 1.01109 - val_accuracy: 0.953797\n",
      "Epoch 10/10\n",
      "376/375 [==============================] - loss: 1.77725 - accuracy: 0.959371 - val_loss: 1.68079 - val_accuracy: 0.946657\n",
      "Testing\n",
      "313/313 [==============================] - loss: 0.462141 - accuracy: 0.947448\n"
     ]
    }
   ],
   "source": [
    "from compugraph import mlp2\n",
    "import numpy as np\n",
    "\n",
    "print('X_train shape:', X_train.shape)\n",
    "print('Y_train shape:', Y_train.shape)\n",
    "print('X_test shape:', X_test.shape)\n",
    "print('Y_test shape:', Y_test.shape)\n",
    "\n",
    "results = mlp2(X_train, Y_train, X_test, Y_test, 10)"
   ]
  },
  {
   "cell_type": "code",
   "execution_count": 8,
   "metadata": {},
   "outputs": [
    {
     "data": {
      "image/png": "[encoded data removed]",
      "text/plain": [
       "<Figure size 432x288 with 1 Axes>"
      ]
     },
     "metadata": {
      "needs_background": "light"
     },
     "output_type": "display_data"
    },
    {
     "data": {
      "image/png": "[encoded data removed]",
      "text/plain": [
       "<Figure size 432x288 with 1 Axes>"
      ]
     },
     "metadata": {
      "needs_background": "light"
     },
     "output_type": "display_data"
    }
   ],
   "source": [
    "import matplotlib.pyplot as plt\n",
    "\n",
    "x = list(range(1, len(results)))\n",
    "train_err = [1 - results[i]['accuracy'] for i in range(0, len(results) - 1)]\n",
    "val_err = [1 - results[i]['val_accuracy'] for i in range(0, len(results) - 1)]\n",
    "\n",
    "plt.plot(x, train_err)\n",
    "plt.xlabel('epoch')\n",
    "plt.ylabel('Training Error')\n",
    "plt.show()\n",
    "\n",
    "plt.plot(x, val_err)\n",
    "plt.xlabel('epoch')\n",
    "plt.ylabel('Validation Error')\n",
    "plt.show()"
   ]
  }
 ],
 "metadata": {
  "interpreter": {
   "hash": "5bc13a52393d9cf92ad84a5c56452b02f2f6920b5527d2a9f165e37749a47e8d"
  },
  "kernelspec": {
   "display_name": "Python 3.8.8 ('base')",
   "language": "python",
   "name": "python3"
  },
  "language_info": {
   "codemirror_mode": {
    "name": "ipython",
    "version": 3
   },
   "file_extension": ".py",
   "mimetype": "text/x-python",
   "name": "python",
   "nbconvert_exporter": "python",
   "pygments_lexer": "ipython3",
   "version": "3.8.8"
  },
  "orig_nbformat": 4
 },
 "nbformat": 4,
 "nbformat_minor": 2
}
