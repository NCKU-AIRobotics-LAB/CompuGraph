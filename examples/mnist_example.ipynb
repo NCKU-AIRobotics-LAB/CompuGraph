{
 "cells": [
  {
   "cell_type": "code",
   "execution_count": 1,
   "metadata": {},
   "outputs": [],
   "source": [
    "import sys\n",
    "sys.path.append('../build')"
   ]
  },
  {
   "cell_type": "code",
   "execution_count": 2,
   "metadata": {},
   "outputs": [
    {
     "name": "stdout",
     "output_type": "stream",
     "text": [
      "CompuGraph Testing Version 0.0.4\n"
     ]
    }
   ],
   "source": [
    "from compugraph import test\n",
    "\n",
    "test()"
   ]
  },
  {
   "cell_type": "code",
   "execution_count": 3,
   "metadata": {},
   "outputs": [
    {
     "name": "stdout",
     "output_type": "stream",
     "text": [
      "Test BLAS and LAPACK\n",
      "{{ 19.,  22.},\n",
      " { 43.,  50.}}\n"
     ]
    }
   ],
   "source": [
    "from compugraph import dot\n",
    "\n",
    "dot()"
   ]
  },
  {
   "cell_type": "code",
   "execution_count": 4,
   "metadata": {},
   "outputs": [],
   "source": [
    "import gzip\n",
    "import os\n",
    "from urllib.request import urlretrieve\n",
    "import numpy as np\n",
    "\n",
    "# train-images-idx3-ubyte.gz: training set images (9912422 bytes)\n",
    "# train-labels-idx1-ubyte.gz: training set labels (28881 bytes)\n",
    "# t10k-images-idx3-ubyte.gz: test set images (1648877 bytes)\n",
    "# t10k-labels-idx1-ubyte.gz: test set labels (4542 bytes)\n",
    "\n",
    "def load_idx(filepath):\n",
    "    with gzip.open(filepath, 'rb') as fin:\n",
    "        idx_data = fin.read()\n",
    "        idx = 0\n",
    "        unsigned = idx_data[idx + 2] == 8\n",
    "        dim = idx_data[idx + 3]\n",
    "        idx += 4\n",
    "\n",
    "        dim_shape = []\n",
    "        for i in range(dim):\n",
    "            dim_shape.append(int.from_bytes(idx_data[idx:idx+4], 'big', signed=False))\n",
    "            idx += 4\n",
    "\n",
    "        if unsigned:\n",
    "            return np.frombuffer(idx_data[idx:], np.uint8).reshape(dim_shape)\n",
    "        return None\n",
    "\n",
    "def select_images():\n",
    "    if (not os.path.exists('data')):\n",
    "        os.makedirs('data')\n",
    "    if (not os.path.exists('data/train-images-idx3-ubyte.gz')):\n",
    "        urlretrieve('http://yann.lecun.com/exdb/mnist/train-images-idx3-ubyte.gz', 'data/train-images-idx3-ubyte.gz')\n",
    "    if (not os.path.exists('data/train-labels-idx1-ubyte.gz')):\n",
    "        urlretrieve('http://yann.lecun.com/exdb/mnist/train-labels-idx1-ubyte.gz', 'data/train-labels-idx1-ubyte.gz')\n",
    "    if (not os.path.exists('data/t10k-images-idx3-ubyte.gz')):\n",
    "        urlretrieve('http://yann.lecun.com/exdb/mnist/t10k-images-idx3-ubyte.gz', 'data/t10k-images-idx3-ubyte.gz')\n",
    "    if (not os.path.exists('data/t10k-labels-idx1-ubyte.gz')):\n",
    "        urlretrieve('http://yann.lecun.com/exdb/mnist/t10k-labels-idx1-ubyte.gz', 'data/t10k-labels-idx1-ubyte.gz')\n",
    "    train_images_data = load_idx('data/train-images-idx3-ubyte.gz')\n",
    "    train_labels_data = load_idx('data/train-labels-idx1-ubyte.gz')\n",
    "    test_images_data = load_idx('data/t10k-images-idx3-ubyte.gz')\n",
    "    test_labels_data = load_idx('data/t10k-labels-idx1-ubyte.gz')\n",
    "\n",
    "    images_list = []\n",
    "    labels_list = []\n",
    "    for n in range(10):\n",
    "        idx = np.where(train_labels_data == n)[0][:]\n",
    "        images_list.append(train_images_data[idx])\n",
    "        labels_list.extend(train_labels_data[idx])\n",
    "    train_images = np.vstack(images_list)\n",
    "    train_labels = np.vstack(labels_list).reshape(-1)\n",
    "    train_labels = np.eye(10)[train_labels]\n",
    "\n",
    "    images_list = []\n",
    "    labels_list = []\n",
    "    for n in range(10):\n",
    "        idx = np.where(test_labels_data == n)[0][:]\n",
    "        images_list.append(test_images_data[idx])\n",
    "        labels_list.extend(test_labels_data[idx])\n",
    "    test_images = np.vstack(images_list)\n",
    "    test_labels = np.vstack(labels_list).reshape(-1)\n",
    "    test_labels = np.eye(10)[test_labels]\n",
    "\n",
    "    return train_images, train_labels, test_images, test_labels\n",
    "\n",
    "train_images, train_labels, test_images, test_labels = select_images()\n",
    "\n",
    "X_train = (train_images.reshape(train_images.shape[0], -1) / 255.0).astype(np.float64)\n",
    "Y_train = train_labels.astype(np.float32)\n",
    "X_test = (test_images.reshape(test_images.shape[0], -1) / 255.0).astype(np.float64)\n",
    "Y_test = test_labels.astype(np.float64)"
   ]
  },
  {
   "cell_type": "code",
   "execution_count": 5,
   "metadata": {},
   "outputs": [
    {
     "name": "stdout",
     "output_type": "stream",
     "text": [
      "X_train shape: (60000, 784)\n",
      "Y_train shape: (60000, 10)\n",
      "X_test shape: (10000, 784)\n",
      "Y_test shape: (10000, 10)\n"
     ]
    },
    {
     "data": {
      "text/plain": [
       "[{'test_accuracy': 0.9387019230769231,\n",
       "  'test_loss': 208.14001418226198,\n",
       "  'train_accuracy': 0.8418636485042735,\n",
       "  'train_loss': 1464.1314325995395},\n",
       " {'test_accuracy': 0.9550280448717948,\n",
       "  'test_loss': 132.03313269513703,\n",
       "  'train_accuracy': 0.9462807158119658,\n",
       "  'train_loss': 1080.569313473525},\n",
       " {'test_accuracy': 0.9569310897435898,\n",
       "  'test_loss': 130.32498710425912,\n",
       "  'train_accuracy': 0.9587673611111112,\n",
       "  'train_loss': 852.5314137674343},\n",
       " {'test_accuracy': 0.9644431089743589,\n",
       "  'test_loss': 107.17921664479697,\n",
       "  'train_accuracy': 0.9652610844017094,\n",
       "  'train_loss': 698.1102996978888},\n",
       " {'test_accuracy': 0.9639423076923077,\n",
       "  'test_loss': 100.09815247298155,\n",
       "  'train_accuracy': 0.969284188034188,\n",
       "  'train_loss': 617.8769471825528},\n",
       " {'test_accuracy': 0.9636418269230769,\n",
       "  'test_loss': 91.93561618103426,\n",
       "  'train_accuracy': 0.9725727831196581,\n",
       "  'train_loss': 557.2402082677605},\n",
       " {'test_accuracy': 0.9652443910256411,\n",
       "  'test_loss': 75.06818748630582,\n",
       "  'train_accuracy': 0.9753772702991453,\n",
       "  'train_loss': 505.5733359496445},\n",
       " {'test_accuracy': 0.9665464743589743,\n",
       "  'test_loss': 73.46936539338841,\n",
       "  'train_accuracy': 0.9767127403846154,\n",
       "  'train_loss': 452.58286088166506},\n",
       " {'test_accuracy': 0.9711538461538461,\n",
       "  'test_loss': 57.418454885837754,\n",
       "  'train_accuracy': 0.9794337606837606,\n",
       "  'train_loss': 438.3013097496807},\n",
       " {'test_accuracy': 0.9655448717948718,\n",
       "  'test_loss': 65.78918821197605,\n",
       "  'train_accuracy': 0.9805355235042735,\n",
       "  'train_loss': 398.00565184696967}]"
      ]
     },
     "execution_count": 5,
     "metadata": {},
     "output_type": "execute_result"
    }
   ],
   "source": [
    "from compugraph import mlp1\n",
    "import numpy as np\n",
    "\n",
    "print('X_train shape:', X_train.shape)\n",
    "print('Y_train shape:', Y_train.shape)\n",
    "print('X_test shape:', X_test.shape)\n",
    "print('Y_test shape:', Y_test.shape)\n",
    "\n",
    "results = mlp1(X_train, Y_train, X_test, Y_test, 10)\n",
    "results"
   ]
  },
  {
   "cell_type": "code",
   "execution_count": 6,
   "metadata": {},
   "outputs": [
    {
     "data": {
      "image/png": "[encoded data removed]",
      "text/plain": [
       "<Figure size 432x288 with 1 Axes>"
      ]
     },
     "metadata": {
      "needs_background": "light"
     },
     "output_type": "display_data"
    },
    {
     "data": {
      "image/png": "[encoded data removed]",
      "text/plain": [
       "<Figure size 432x288 with 1 Axes>"
      ]
     },
     "metadata": {
      "needs_background": "light"
     },
     "output_type": "display_data"
    }
   ],
   "source": [
    "import matplotlib.pyplot as plt\n",
    "\n",
    "x = list(range(1, len(results) + 1))\n",
    "train_err = [1 - result['train_accuracy'] for result in results]\n",
    "test_err = [1 - result['test_accuracy'] for result in results]\n",
    "\n",
    "plt.plot(x, train_err)\n",
    "plt.xlabel('epoch')\n",
    "plt.ylabel('Training Error')\n",
    "plt.show()\n",
    "\n",
    "plt.plot(x, test_err)\n",
    "plt.xlabel('epoch')\n",
    "plt.ylabel('Testing Error')\n",
    "plt.show()"
   ]
  },
  {
   "cell_type": "code",
   "execution_count": 7,
   "metadata": {},
   "outputs": [
    {
     "name": "stdout",
     "output_type": "stream",
     "text": [
      "X_train shape: (60000, 784)\n",
      "Y_train shape: (60000, 10)\n",
      "X_test shape: (10000, 784)\n",
      "Y_test shape: (10000, 10)\n"
     ]
    },
    {
     "data": {
      "text/plain": [
       "[{'test_accuracy': 0.8807091346153846,\n",
       "  'test_loss': 365.55831215943533,\n",
       "  'train_accuracy': 0.5243723290598291,\n",
       "  'train_loss': 1618.5114112598233},\n",
       " {'test_accuracy': 0.9248798076923077,\n",
       "  'test_loss': 212.53495701620224,\n",
       "  'train_accuracy': 0.8874532585470085,\n",
       "  'train_loss': 1483.2359535380256},\n",
       " {'test_accuracy': 0.9344951923076923,\n",
       "  'test_loss': 198.46120556269182,\n",
       "  'train_accuracy': 0.9274839743589743,\n",
       "  'train_loss': 1250.2591337944987},\n",
       " {'test_accuracy': 0.9110576923076923,\n",
       "  'test_loss': 123.68590979115409,\n",
       "  'train_accuracy': 0.9393696581196581,\n",
       "  'train_loss': 1021.3310391831695},\n",
       " {'test_accuracy': 0.9320913461538461,\n",
       "  'test_loss': 127.87776151845891,\n",
       "  'train_accuracy': 0.9495025373931624,\n",
       "  'train_loss': 925.1644912920118},\n",
       " {'test_accuracy': 0.9447115384615384,\n",
       "  'test_loss': 119.46061799021759,\n",
       "  'train_accuracy': 0.9543603098290598,\n",
       "  'train_loss': 768.5376790243008},\n",
       " {'test_accuracy': 0.94921875,\n",
       "  'test_loss': 123.49386191644219,\n",
       "  'train_accuracy': 0.9587339743589743,\n",
       "  'train_loss': 707.6788762838104},\n",
       " {'test_accuracy': 0.9542267628205128,\n",
       "  'test_loss': 115.98388867811944,\n",
       "  'train_accuracy': 0.9633413461538461,\n",
       "  'train_loss': 643.6350598220555},\n",
       " {'test_accuracy': 0.9555288461538461,\n",
       "  'test_loss': 96.48650536214839,\n",
       "  'train_accuracy': 0.9654614049145299,\n",
       "  'train_loss': 598.8644328367767},\n",
       " {'test_accuracy': 0.9575320512820513,\n",
       "  'test_loss': 73.7746267350824,\n",
       "  'train_accuracy': 0.9656617254273504,\n",
       "  'train_loss': 559.5319335972889}]"
      ]
     },
     "execution_count": 7,
     "metadata": {},
     "output_type": "execute_result"
    }
   ],
   "source": [
    "from compugraph import mlp2\n",
    "import numpy as np\n",
    "\n",
    "print('X_train shape:', X_train.shape)\n",
    "print('Y_train shape:', Y_train.shape)\n",
    "print('X_test shape:', X_test.shape)\n",
    "print('Y_test shape:', Y_test.shape)\n",
    "\n",
    "results = mlp2(X_train, Y_train, X_test, Y_test, 10)\n",
    "results"
   ]
  },
  {
   "cell_type": "code",
   "execution_count": 8,
   "metadata": {},
   "outputs": [
    {
     "data": {
      "image/png": "[encoded data removed]",
      "text/plain": [
       "<Figure size 432x288 with 1 Axes>"
      ]
     },
     "metadata": {
      "needs_background": "light"
     },
     "output_type": "display_data"
    },
    {
     "data": {
      "image/png": "[encoded data removed]",
      "text/plain": [
       "<Figure size 432x288 with 1 Axes>"
      ]
     },
     "metadata": {
      "needs_background": "light"
     },
     "output_type": "display_data"
    }
   ],
   "source": [
    "import matplotlib.pyplot as plt\n",
    "\n",
    "x = list(range(1, len(results) + 1))\n",
    "train_err = [1 - result['train_accuracy'] for result in results]\n",
    "test_err = [1 - result['test_accuracy'] for result in results]\n",
    "\n",
    "plt.plot(x, train_err)\n",
    "plt.xlabel('epoch')\n",
    "plt.ylabel('Training Error')\n",
    "plt.show()\n",
    "\n",
    "plt.plot(x, test_err)\n",
    "plt.xlabel('epoch')\n",
    "plt.ylabel('Testing Error')\n",
    "plt.show()"
   ]
  }
 ],
 "metadata": {
  "interpreter": {
   "hash": "5bc13a52393d9cf92ad84a5c56452b02f2f6920b5527d2a9f165e37749a47e8d"
  },
  "kernelspec": {
   "display_name": "Python 3.8.8 ('base')",
   "language": "python",
   "name": "python3"
  },
  "language_info": {
   "codemirror_mode": {
    "name": "ipython",
    "version": 3
   },
   "file_extension": ".py",
   "mimetype": "text/x-python",
   "name": "python",
   "nbconvert_exporter": "python",
   "pygments_lexer": "ipython3",
   "version": "3.8.8"
  },
  "orig_nbformat": 4
 },
 "nbformat": 4,
 "nbformat_minor": 2
}
