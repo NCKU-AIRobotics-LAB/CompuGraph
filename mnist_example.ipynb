{
 "cells": [
  {
   "cell_type": "code",
   "execution_count": 1,
   "metadata": {},
   "outputs": [],
   "source": [
    "import gzip\n",
    "import numpy as np\n",
    "\n",
    "# train-images-idx3-ubyte.gz: training set images (9912422 bytes)\n",
    "# train-labels-idx1-ubyte.gz: training set labels (28881 bytes)\n",
    "# t10k-images-idx3-ubyte.gz: test set images (1648877 bytes)\n",
    "# t10k-labels-idx1-ubyte.gz: test set labels (4542 bytes)\n",
    "\n",
    "def load_idx(filepath):\n",
    "    with gzip.open(filepath, 'rb') as fin:\n",
    "        idx_data = fin.read()\n",
    "        idx = 0\n",
    "        unsigned = idx_data[idx + 2] == 8\n",
    "        dim = idx_data[idx + 3]\n",
    "        idx += 4\n",
    "\n",
    "        dim_shape = []\n",
    "        for i in range(dim):\n",
    "            dim_shape.append(int.from_bytes(idx_data[idx:idx+4], 'big', signed=False))\n",
    "            idx += 4\n",
    "\n",
    "        if unsigned:\n",
    "            return np.frombuffer(idx_data[idx:], np.uint8).reshape(dim_shape)\n",
    "        return None\n",
    "\n",
    "def select_images():\n",
    "    train_images_data = load_idx('data/train-images-idx3-ubyte.gz')\n",
    "    train_labels_data = load_idx('data/train-labels-idx1-ubyte.gz')\n",
    "    test_images_data = load_idx('data/t10k-images-idx3-ubyte.gz')\n",
    "    test_labels_data = load_idx('data/t10k-labels-idx1-ubyte.gz')\n",
    "\n",
    "    images_list = []\n",
    "    labels_list = []\n",
    "    for n in range(10):\n",
    "        idx = np.where(train_labels_data == n)[0][:100]\n",
    "        images_list.append(train_images_data[idx])\n",
    "        labels_list.extend(train_labels_data[idx])\n",
    "    train_images = np.vstack(images_list)\n",
    "    train_labels = np.vstack(labels_list).reshape(-1)\n",
    "    train_labels = np.eye(10)[train_labels]\n",
    "\n",
    "    images_list = []\n",
    "    labels_list = []\n",
    "    for n in range(10):\n",
    "        idx = np.where(test_labels_data == n)[0][:10]\n",
    "        images_list.append(test_images_data[idx])\n",
    "        labels_list.extend(test_labels_data[idx])\n",
    "    test_images = np.vstack(images_list)\n",
    "    test_labels = np.vstack(labels_list).reshape(-1)\n",
    "    test_labels = np.eye(10)[test_labels]\n",
    "\n",
    "    return train_images, train_labels, test_images, test_labels\n",
    "\n",
    "train_images, train_labels, test_images, test_labels = select_images()\n",
    "\n",
    "X_train = (train_images.reshape(train_images.shape[0], -1) / 255.0).astype(np.float64)\n",
    "Y_train = train_labels.astype(np.float32)\n",
    "X_test = (test_images.reshape(test_images.shape[0], -1) / 255.0).astype(np.float64)\n",
    "Y_test = test_labels.astype(np.float64)"
   ]
  },
  {
   "cell_type": "code",
   "execution_count": 2,
   "metadata": {},
   "outputs": [
    {
     "name": "stdout",
     "output_type": "stream",
     "text": [
      "X_train shape: (1000, 784)\n",
      "Y_train shape: (1000, 10)\n",
      "X_test shape: (100, 784)\n",
      "Y_test shape: (100, 10)\n"
     ]
    },
    {
     "data": {
      "text/plain": [
       "[{'test_accuracy': 0.59,\n",
       "  'test_loss': 121.433031736741,\n",
       "  'train_accuracy': 0.35786290322580644,\n",
       "  'train_loss': 1911.0628175203055},\n",
       " {'test_accuracy': 0.76,\n",
       "  'test_loss': 191.67804534607473,\n",
       "  'train_accuracy': 0.748991935483871,\n",
       "  'train_loss': 804.1285648993314},\n",
       " {'test_accuracy': 0.8,\n",
       "  'test_loss': 261.215850330177,\n",
       "  'train_accuracy': 0.8377016129032258,\n",
       "  'train_loss': 484.38945527394236},\n",
       " {'test_accuracy': 0.81,\n",
       "  'test_loss': 324.1695316768869,\n",
       "  'train_accuracy': 0.8840725806451613,\n",
       "  'train_loss': 372.0076877473716},\n",
       " {'test_accuracy': 0.88,\n",
       "  'test_loss': 362.5532083791169,\n",
       "  'train_accuracy': 0.8951612903225806,\n",
       "  'train_loss': 329.9396493466699},\n",
       " {'test_accuracy': 0.89,\n",
       "  'test_loss': 398.5243685175439,\n",
       "  'train_accuracy': 0.938508064516129,\n",
       "  'train_loss': 225.20756153050306},\n",
       " {'test_accuracy': 0.9,\n",
       "  'test_loss': 433.1753266545839,\n",
       "  'train_accuracy': 0.9516129032258065,\n",
       "  'train_loss': 173.06967099545892},\n",
       " {'test_accuracy': 0.89,\n",
       "  'test_loss': 469.08279331240107,\n",
       "  'train_accuracy': 0.9627016129032258,\n",
       "  'train_loss': 132.82232264461638},\n",
       " {'test_accuracy': 0.9,\n",
       "  'test_loss': 498.87057992612773,\n",
       "  'train_accuracy': 0.9818548387096774,\n",
       "  'train_loss': 101.63419752383167},\n",
       " {'test_accuracy': 0.91,\n",
       "  'test_loss': 528.9540451844682,\n",
       "  'train_accuracy': 0.9838709677419355,\n",
       "  'train_loss': 82.21365896819101}]"
      ]
     },
     "execution_count": 2,
     "metadata": {},
     "output_type": "execute_result"
    }
   ],
   "source": [
    "import sys\n",
    "sys.path.append('build')\n",
    "from pysimplednn import mlp1\n",
    "import numpy as np\n",
    "\n",
    "print('X_train shape:', X_train.shape)\n",
    "print('Y_train shape:', Y_train.shape)\n",
    "print('X_test shape:', X_test.shape)\n",
    "print('Y_test shape:', Y_test.shape)\n",
    "\n",
    "results = mlp1(X_train, Y_train, X_test, Y_test, 10)\n",
    "results"
   ]
  },
  {
   "cell_type": "code",
   "execution_count": 3,
   "metadata": {},
   "outputs": [
    {
     "data": {
      "image/png": "[encoded data removed]",
      "text/plain": [
       "<Figure size 432x288 with 1 Axes>"
      ]
     },
     "metadata": {
      "needs_background": "light"
     },
     "output_type": "display_data"
    },
    {
     "data": {
      "image/png": "[encoded data removed]",
      "text/plain": [
       "<Figure size 432x288 with 1 Axes>"
      ]
     },
     "metadata": {
      "needs_background": "light"
     },
     "output_type": "display_data"
    }
   ],
   "source": [
    "import matplotlib.pyplot as plt\n",
    "\n",
    "x = list(range(1, len(results) + 1))\n",
    "train_err = [1 - result['train_accuracy'] for result in results]\n",
    "test_err = [1 - result['test_accuracy'] for result in results]\n",
    "\n",
    "plt.plot(x, train_err)\n",
    "plt.xlabel('epoch')\n",
    "plt.ylabel('Training Error')\n",
    "plt.show()\n",
    "\n",
    "plt.plot(x, test_err)\n",
    "plt.xlabel('epoch')\n",
    "plt.ylabel('Testing Error')\n",
    "plt.show()"
   ]
  },
  {
   "cell_type": "code",
   "execution_count": 4,
   "metadata": {},
   "outputs": [
    {
     "name": "stdout",
     "output_type": "stream",
     "text": [
      "X_train shape: (1000, 784)\n",
      "Y_train shape: (1000, 10)\n",
      "X_test shape: (100, 784)\n",
      "Y_test shape: (100, 10)\n"
     ]
    },
    {
     "data": {
      "text/plain": [
       "[{'test_accuracy': 0.1,\n",
       "  'test_loss': 230.22336136052675,\n",
       "  'train_accuracy': 0.0846774193548387,\n",
       "  'train_loss': 2287.734972698007},\n",
       " {'test_accuracy': 0.1,\n",
       "  'test_loss': 460.2313939261882,\n",
       "  'train_accuracy': 0.10383064516129033,\n",
       "  'train_loss': 2286.379631770572},\n",
       " {'test_accuracy': 0.1,\n",
       "  'test_loss': 687.853932800814,\n",
       "  'train_accuracy': 0.1431451612903226,\n",
       "  'train_loss': 2278.1024052170956},\n",
       " {'test_accuracy': 0.31,\n",
       "  'test_loss': 863.9357987383366,\n",
       "  'train_accuracy': 0.23387096774193547,\n",
       "  'train_loss': 2055.217092788068},\n",
       " {'test_accuracy': 0.61,\n",
       "  'test_loss': 976.5310210462443,\n",
       "  'train_accuracy': 0.48185483870967744,\n",
       "  'train_loss': 1351.5445664905567},\n",
       " {'test_accuracy': 0.72,\n",
       "  'test_loss': 1061.769130446915,\n",
       "  'train_accuracy': 0.6743951612903226,\n",
       "  'train_loss': 914.4525427833297},\n",
       " {'test_accuracy': 0.8,\n",
       "  'test_loss': 1124.8050611660685,\n",
       "  'train_accuracy': 0.7449596774193549,\n",
       "  'train_loss': 721.5082343260865},\n",
       " {'test_accuracy': 0.86,\n",
       "  'test_loss': 1172.1313546184085,\n",
       "  'train_accuracy': 0.8084677419354839,\n",
       "  'train_loss': 612.5594412347257},\n",
       " {'test_accuracy': 0.82,\n",
       "  'test_loss': 1220.9889894497292,\n",
       "  'train_accuracy': 0.8790322580645161,\n",
       "  'train_loss': 381.7666240479702},\n",
       " {'test_accuracy': 0.85,\n",
       "  'test_loss': 1270.2172571783967,\n",
       "  'train_accuracy': 0.9112903225806451,\n",
       "  'train_loss': 283.0828038882737}]"
      ]
     },
     "execution_count": 4,
     "metadata": {},
     "output_type": "execute_result"
    }
   ],
   "source": [
    "import sys\n",
    "sys.path.append('build')\n",
    "from pysimplednn import mlp2\n",
    "import numpy as np\n",
    "\n",
    "print('X_train shape:', X_train.shape)\n",
    "print('Y_train shape:', Y_train.shape)\n",
    "print('X_test shape:', X_test.shape)\n",
    "print('Y_test shape:', Y_test.shape)\n",
    "\n",
    "results = mlp2(X_train, Y_train, X_test, Y_test, 10)\n",
    "results"
   ]
  },
  {
   "cell_type": "code",
   "execution_count": 5,
   "metadata": {},
   "outputs": [
    {
     "data": {
      "image/png": "[encoded data removed]",
      "text/plain": [
       "<Figure size 432x288 with 1 Axes>"
      ]
     },
     "metadata": {
      "needs_background": "light"
     },
     "output_type": "display_data"
    },
    {
     "data": {
      "image/png": "[encoded data removed]",
      "text/plain": [
       "<Figure size 432x288 with 1 Axes>"
      ]
     },
     "metadata": {
      "needs_background": "light"
     },
     "output_type": "display_data"
    }
   ],
   "source": [
    "import matplotlib.pyplot as plt\n",
    "\n",
    "x = list(range(1, len(results) + 1))\n",
    "train_err = [1 - result['train_accuracy'] for result in results]\n",
    "test_err = [1 - result['test_accuracy'] for result in results]\n",
    "\n",
    "plt.plot(x, train_err)\n",
    "plt.xlabel('epoch')\n",
    "plt.ylabel('Training Error')\n",
    "plt.show()\n",
    "\n",
    "plt.plot(x, test_err)\n",
    "plt.xlabel('epoch')\n",
    "plt.ylabel('Testing Error')\n",
    "plt.show()"
   ]
  }
 ],
 "metadata": {
  "interpreter": {
   "hash": "5bc13a52393d9cf92ad84a5c56452b02f2f6920b5527d2a9f165e37749a47e8d"
  },
  "kernelspec": {
   "display_name": "Python 3.8.8 ('base')",
   "language": "python",
   "name": "python3"
  },
  "language_info": {
   "codemirror_mode": {
    "name": "ipython",
    "version": 3
   },
   "file_extension": ".py",
   "mimetype": "text/x-python",
   "name": "python",
   "nbconvert_exporter": "python",
   "pygments_lexer": "ipython3",
   "version": "3.8.8"
  },
  "orig_nbformat": 4
 },
 "nbformat": 4,
 "nbformat_minor": 2
}
