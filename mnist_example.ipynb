{
 "cells": [
  {
   "cell_type": "code",
   "execution_count": 1,
   "metadata": {},
   "outputs": [],
   "source": [
    "import gzip\n",
    "import os\n",
    "from urllib.request import urlretrieve\n",
    "import numpy as np\n",
    "\n",
    "# train-images-idx3-ubyte.gz: training set images (9912422 bytes)\n",
    "# train-labels-idx1-ubyte.gz: training set labels (28881 bytes)\n",
    "# t10k-images-idx3-ubyte.gz: test set images (1648877 bytes)\n",
    "# t10k-labels-idx1-ubyte.gz: test set labels (4542 bytes)\n",
    "\n",
    "def load_idx(filepath):\n",
    "    with gzip.open(filepath, 'rb') as fin:\n",
    "        idx_data = fin.read()\n",
    "        idx = 0\n",
    "        unsigned = idx_data[idx + 2] == 8\n",
    "        dim = idx_data[idx + 3]\n",
    "        idx += 4\n",
    "\n",
    "        dim_shape = []\n",
    "        for i in range(dim):\n",
    "            dim_shape.append(int.from_bytes(idx_data[idx:idx+4], 'big', signed=False))\n",
    "            idx += 4\n",
    "\n",
    "        if unsigned:\n",
    "            return np.frombuffer(idx_data[idx:], np.uint8).reshape(dim_shape)\n",
    "        return None\n",
    "\n",
    "def select_images():\n",
    "    if (not os.path.exists('data')):\n",
    "        os.makedirs('data')\n",
    "    if (not os.path.exists('data/train-images-idx3-ubyte.gz')):\n",
    "        urlretrieve('http://yann.lecun.com/exdb/mnist/train-images-idx3-ubyte.gz', 'data/train-images-idx3-ubyte.gz')\n",
    "    if (not os.path.exists('data/train-labels-idx1-ubyte.gz')):\n",
    "        urlretrieve('http://yann.lecun.com/exdb/mnist/train-labels-idx1-ubyte.gz', 'data/train-labels-idx1-ubyte.gz')\n",
    "    if (not os.path.exists('data/t10k-images-idx3-ubyte.gz')):\n",
    "        urlretrieve('http://yann.lecun.com/exdb/mnist/t10k-images-idx3-ubyte.gz', 'data/t10k-images-idx3-ubyte.gz')\n",
    "    if (not os.path.exists('data/t10k-labels-idx1-ubyte.gz')):\n",
    "        urlretrieve('http://yann.lecun.com/exdb/mnist/t10k-labels-idx1-ubyte.gz', 'data/t10k-labels-idx1-ubyte.gz')\n",
    "    train_images_data = load_idx('data/train-images-idx3-ubyte.gz')\n",
    "    train_labels_data = load_idx('data/train-labels-idx1-ubyte.gz')\n",
    "    test_images_data = load_idx('data/t10k-images-idx3-ubyte.gz')\n",
    "    test_labels_data = load_idx('data/t10k-labels-idx1-ubyte.gz')\n",
    "\n",
    "    images_list = []\n",
    "    labels_list = []\n",
    "    for n in range(10):\n",
    "        idx = np.where(train_labels_data == n)[0][:]\n",
    "        images_list.append(train_images_data[idx])\n",
    "        labels_list.extend(train_labels_data[idx])\n",
    "    train_images = np.vstack(images_list)\n",
    "    train_labels = np.vstack(labels_list).reshape(-1)\n",
    "    train_labels = np.eye(10)[train_labels]\n",
    "\n",
    "    images_list = []\n",
    "    labels_list = []\n",
    "    for n in range(10):\n",
    "        idx = np.where(test_labels_data == n)[0][:]\n",
    "        images_list.append(test_images_data[idx])\n",
    "        labels_list.extend(test_labels_data[idx])\n",
    "    test_images = np.vstack(images_list)\n",
    "    test_labels = np.vstack(labels_list).reshape(-1)\n",
    "    test_labels = np.eye(10)[test_labels]\n",
    "\n",
    "    return train_images, train_labels, test_images, test_labels\n",
    "\n",
    "train_images, train_labels, test_images, test_labels = select_images()\n",
    "\n",
    "X_train = (train_images.reshape(train_images.shape[0], -1) / 255.0).astype(np.float64)\n",
    "Y_train = train_labels.astype(np.float32)\n",
    "X_test = (test_images.reshape(test_images.shape[0], -1) / 255.0).astype(np.float64)\n",
    "Y_test = test_labels.astype(np.float64)"
   ]
  },
  {
   "cell_type": "code",
   "execution_count": 2,
   "metadata": {},
   "outputs": [
    {
     "name": "stdout",
     "output_type": "stream",
     "text": [
      "X_train shape: (60000, 784)\n",
      "Y_train shape: (60000, 10)\n",
      "X_test shape: (10000, 784)\n",
      "Y_test shape: (10000, 10)\n"
     ]
    },
    {
     "data": {
      "text/plain": [
       "[{'test_accuracy': 0.9455128205128205,\n",
       "  'test_loss': 186.23394006047732,\n",
       "  'train_accuracy': 0.8451522435897436,\n",
       "  'train_loss': 1411.9426446959199},\n",
       " {'test_accuracy': 0.948417467948718,\n",
       "  'test_loss': 162.8455471053922,\n",
       "  'train_accuracy': 0.9450287126068376,\n",
       "  'train_loss': 1086.3199265639382},\n",
       " {'test_accuracy': 0.9586338141025641,\n",
       "  'test_loss': 121.25915277613348,\n",
       "  'train_accuracy': 0.9573317307692307,\n",
       "  'train_loss': 784.57426201078},\n",
       " {'test_accuracy': 0.9618389423076923,\n",
       "  'test_loss': 118.89767902968573,\n",
       "  'train_accuracy': 0.9656951121794872,\n",
       "  'train_loss': 677.7067793230405},\n",
       " {'test_accuracy': 0.9646434294871795,\n",
       "  'test_loss': 89.7617755124378,\n",
       "  'train_accuracy': 0.970436030982906,\n",
       "  'train_loss': 632.9180934992789},\n",
       " {'test_accuracy': 0.9630408653846154,\n",
       "  'test_loss': 93.26062956260532,\n",
       "  'train_accuracy': 0.9734742254273504,\n",
       "  'train_loss': 567.6852818611861},\n",
       " {'test_accuracy': 0.9580328525641025,\n",
       "  'test_loss': 85.94786875123155,\n",
       "  'train_accuracy': 0.9760116185897436,\n",
       "  'train_loss': 490.5675543372639},\n",
       " {'test_accuracy': 0.9660456730769231,\n",
       "  'test_loss': 80.65683347988394,\n",
       "  'train_accuracy': 0.9784822382478633,\n",
       "  'train_loss': 467.016534309152},\n",
       " {'test_accuracy': 0.9705528846153846,\n",
       "  'test_loss': 75.63670686182238,\n",
       "  'train_accuracy': 0.9796006944444444,\n",
       "  'train_loss': 436.03017863563895},\n",
       " {'test_accuracy': 0.9707532051282052,\n",
       "  'test_loss': 63.23565706976338,\n",
       "  'train_accuracy': 0.9817374465811965,\n",
       "  'train_loss': 403.05923856568916}]"
      ]
     },
     "execution_count": 2,
     "metadata": {},
     "output_type": "execute_result"
    }
   ],
   "source": [
    "import sys\n",
    "sys.path.append('build')\n",
    "from compugraph import mlp1\n",
    "import numpy as np\n",
    "\n",
    "print('X_train shape:', X_train.shape)\n",
    "print('Y_train shape:', Y_train.shape)\n",
    "print('X_test shape:', X_test.shape)\n",
    "print('Y_test shape:', Y_test.shape)\n",
    "\n",
    "results = mlp1(X_train, Y_train, X_test, Y_test, 10)\n",
    "results"
   ]
  },
  {
   "cell_type": "code",
   "execution_count": 3,
   "metadata": {},
   "outputs": [
    {
     "data": {
      "image/png": "[encoded data removed]",
      "text/plain": [
       "<Figure size 432x288 with 1 Axes>"
      ]
     },
     "metadata": {
      "needs_background": "light"
     },
     "output_type": "display_data"
    },
    {
     "data": {
      "image/png": "[encoded data removed]",
      "text/plain": [
       "<Figure size 432x288 with 1 Axes>"
      ]
     },
     "metadata": {
      "needs_background": "light"
     },
     "output_type": "display_data"
    }
   ],
   "source": [
    "import matplotlib.pyplot as plt\n",
    "\n",
    "x = list(range(1, len(results) + 1))\n",
    "train_err = [1 - result['train_accuracy'] for result in results]\n",
    "test_err = [1 - result['test_accuracy'] for result in results]\n",
    "\n",
    "plt.plot(x, train_err)\n",
    "plt.xlabel('epoch')\n",
    "plt.ylabel('Training Error')\n",
    "plt.show()\n",
    "\n",
    "plt.plot(x, test_err)\n",
    "plt.xlabel('epoch')\n",
    "plt.ylabel('Testing Error')\n",
    "plt.show()"
   ]
  },
  {
   "cell_type": "code",
   "execution_count": 4,
   "metadata": {},
   "outputs": [
    {
     "name": "stdout",
     "output_type": "stream",
     "text": [
      "X_train shape: (60000, 784)\n",
      "Y_train shape: (60000, 10)\n",
      "X_test shape: (10000, 784)\n",
      "Y_test shape: (10000, 10)\n"
     ]
    },
    {
     "data": {
      "text/plain": [
       "[{'test_accuracy': 0.9562,\n",
       "  'test_loss': 495.2986973825311,\n",
       "  'train_accuracy': 0.8498666666666667,\n",
       "  'train_loss': 1867.6980826915114},\n",
       " {'test_accuracy': 0.9644,\n",
       "  'test_loss': 357.5691057218978,\n",
       "  'train_accuracy': 0.9626833333333333,\n",
       "  'train_loss': 706.0596523925387},\n",
       " {'test_accuracy': 0.9682,\n",
       "  'test_loss': 232.397622340048,\n",
       "  'train_accuracy': 0.9738833333333333,\n",
       "  'train_loss': 532.1225642956066},\n",
       " {'test_accuracy': 0.9761,\n",
       "  'test_loss': 220.99003519473146,\n",
       "  'train_accuracy': 0.9793,\n",
       "  'train_loss': 386.7480834856332},\n",
       " {'test_accuracy': 0.9699,\n",
       "  'test_loss': 241.53584871568808,\n",
       "  'train_accuracy': 0.9826833333333334,\n",
       "  'train_loss': 343.80083144127263},\n",
       " {'test_accuracy': 0.9763,\n",
       "  'test_loss': 329.554702325888,\n",
       "  'train_accuracy': 0.9838833333333333,\n",
       "  'train_loss': 282.2484916556042},\n",
       " {'test_accuracy': 0.9736,\n",
       "  'test_loss': 281.9964165034132,\n",
       "  'train_accuracy': 0.9867,\n",
       "  'train_loss': 256.75099366381653},\n",
       " {'test_accuracy': 0.9785,\n",
       "  'test_loss': 286.0005075771953,\n",
       "  'train_accuracy': 0.9890833333333333,\n",
       "  'train_loss': 208.67032487567917},\n",
       " {'test_accuracy': 0.9774,\n",
       "  'test_loss': 222.99358462668323,\n",
       "  'train_accuracy': 0.9904333333333334,\n",
       "  'train_loss': 177.4927091712348},\n",
       " {'test_accuracy': 0.9717,\n",
       "  'test_loss': 305.5407453141405,\n",
       "  'train_accuracy': 0.9913833333333333,\n",
       "  'train_loss': 153.1176490958719}]"
      ]
     },
     "execution_count": 4,
     "metadata": {},
     "output_type": "execute_result"
    }
   ],
   "source": [
    "import sys\n",
    "sys.path.append('build')\n",
    "from compugraph import mlp2\n",
    "import numpy as np\n",
    "\n",
    "print('X_train shape:', X_train.shape)\n",
    "print('Y_train shape:', Y_train.shape)\n",
    "print('X_test shape:', X_test.shape)\n",
    "print('Y_test shape:', Y_test.shape)\n",
    "\n",
    "results = mlp2(X_train, Y_train, X_test, Y_test, 10)\n",
    "results"
   ]
  },
  {
   "cell_type": "code",
   "execution_count": 5,
   "metadata": {},
   "outputs": [
    {
     "data": {
      "image/png": "[encoded data removed]",
      "text/plain": [
       "<Figure size 432x288 with 1 Axes>"
      ]
     },
     "metadata": {
      "needs_background": "light"
     },
     "output_type": "display_data"
    },
    {
     "data": {
      "image/png": "[encoded data removed]",
      "text/plain": [
       "<Figure size 432x288 with 1 Axes>"
      ]
     },
     "metadata": {
      "needs_background": "light"
     },
     "output_type": "display_data"
    }
   ],
   "source": [
    "import matplotlib.pyplot as plt\n",
    "\n",
    "x = list(range(1, len(results) + 1))\n",
    "train_err = [1 - result['train_accuracy'] for result in results]\n",
    "test_err = [1 - result['test_accuracy'] for result in results]\n",
    "\n",
    "plt.plot(x, train_err)\n",
    "plt.xlabel('epoch')\n",
    "plt.ylabel('Training Error')\n",
    "plt.show()\n",
    "\n",
    "plt.plot(x, test_err)\n",
    "plt.xlabel('epoch')\n",
    "plt.ylabel('Testing Error')\n",
    "plt.show()"
   ]
  }
 ],
 "metadata": {
  "interpreter": {
   "hash": "5bc13a52393d9cf92ad84a5c56452b02f2f6920b5527d2a9f165e37749a47e8d"
  },
  "kernelspec": {
   "display_name": "Python 3.8.8 ('base')",
   "language": "python",
   "name": "python3"
  },
  "language_info": {
   "codemirror_mode": {
    "name": "ipython",
    "version": 3
   },
   "file_extension": ".py",
   "mimetype": "text/x-python",
   "name": "python",
   "nbconvert_exporter": "python",
   "pygments_lexer": "ipython3",
   "version": "3.8.8"
  },
  "orig_nbformat": 4
 },
 "nbformat": 4,
 "nbformat_minor": 2
}
